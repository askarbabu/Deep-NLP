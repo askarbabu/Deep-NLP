{
 "cells": [
  {
   "cell_type": "code",
   "execution_count": 1,
   "id": "dcabb75e-3ef2-4b63-b0ff-69d4e0daf4f3",
   "metadata": {},
   "outputs": [
    {
     "name": "stdout",
     "output_type": "stream",
     "text": [
      "['.DS_Store', 'archive.zip', 'SPAM.csv']\n"
     ]
    }
   ],
   "source": [
    "import numpy as np # linear algebra\n",
    "import pandas as pd # data processing, CSV file I/O (e.g. pd.read_csv)\n",
    "\n",
    "pd.set_option('display.max_colwidth', 200)\n",
    "\n",
    "\n",
    "# Input data files are available in the \"../input/\" directory.\n",
    "# For example, running this (by clicking run or pressing Shift+Enter) will list the files in the input directory\n",
    "\n",
    "import os\n",
    "print(os.listdir(\"datasets/\"))\n",
    "\n",
    "# Any results you write to the current directory are saved as output."
   ]
  },
  {
   "cell_type": "code",
   "execution_count": 2,
   "id": "a3c553ba-bd3c-44b1-b1a4-63cf01535702",
   "metadata": {},
   "outputs": [],
   "source": [
    "#Firstly we read our data\n",
    "data = pd.read_csv(\"datasets/SPAM.csv\")"
   ]
  },
  {
   "cell_type": "code",
   "execution_count": 70,
   "id": "f39d802a-3659-47cb-925f-a428d6821ef0",
   "metadata": {},
   "outputs": [
    {
     "data": {
      "text/html": [
       "<div>\n",
       "<style scoped>\n",
       "    .dataframe tbody tr th:only-of-type {\n",
       "        vertical-align: middle;\n",
       "    }\n",
       "\n",
       "    .dataframe tbody tr th {\n",
       "        vertical-align: top;\n",
       "    }\n",
       "\n",
       "    .dataframe thead th {\n",
       "        text-align: right;\n",
       "    }\n",
       "</style>\n",
       "<table border=\"1\" class=\"dataframe\">\n",
       "  <thead>\n",
       "    <tr style=\"text-align: right;\">\n",
       "      <th></th>\n",
       "      <th>Category</th>\n",
       "      <th>Message</th>\n",
       "    </tr>\n",
       "  </thead>\n",
       "  <tbody>\n",
       "    <tr>\n",
       "      <th>0</th>\n",
       "      <td>0</td>\n",
       "      <td>Go until jurong point, crazy.. Available only in bugis n great world la e buffet... Cine there got amore wat...</td>\n",
       "    </tr>\n",
       "    <tr>\n",
       "      <th>1</th>\n",
       "      <td>0</td>\n",
       "      <td>Ok lar... Joking wif u oni...</td>\n",
       "    </tr>\n",
       "    <tr>\n",
       "      <th>2</th>\n",
       "      <td>1</td>\n",
       "      <td>Free entry in 2 a wkly comp to win FA Cup final tkts 21st May 2005. Text FA to 87121 to receive entry question(std txt rate)T&amp;C's apply 08452810075over18's</td>\n",
       "    </tr>\n",
       "    <tr>\n",
       "      <th>3</th>\n",
       "      <td>0</td>\n",
       "      <td>U dun say so early hor... U c already then say...</td>\n",
       "    </tr>\n",
       "    <tr>\n",
       "      <th>4</th>\n",
       "      <td>0</td>\n",
       "      <td>Nah I don't think he goes to usf, he lives around here though</td>\n",
       "    </tr>\n",
       "  </tbody>\n",
       "</table>\n",
       "</div>"
      ],
      "text/plain": [
       "   Category  \\\n",
       "0         0   \n",
       "1         0   \n",
       "2         1   \n",
       "3         0   \n",
       "4         0   \n",
       "\n",
       "                                                                                                                                                       Message  \n",
       "0                                              Go until jurong point, crazy.. Available only in bugis n great world la e buffet... Cine there got amore wat...  \n",
       "1                                                                                                                                Ok lar... Joking wif u oni...  \n",
       "2  Free entry in 2 a wkly comp to win FA Cup final tkts 21st May 2005. Text FA to 87121 to receive entry question(std txt rate)T&C's apply 08452810075over18's  \n",
       "3                                                                                                            U dun say so early hor... U c already then say...  \n",
       "4                                                                                                Nah I don't think he goes to usf, he lives around here though  "
      ]
     },
     "execution_count": 70,
     "metadata": {},
     "output_type": "execute_result"
    }
   ],
   "source": [
    "data.head()"
   ]
  },
  {
   "cell_type": "code",
   "execution_count": 4,
   "id": "6e25bbec-afbe-4f73-994a-23724f1571a8",
   "metadata": {},
   "outputs": [
    {
     "data": {
      "text/plain": [
       "Category\n",
       "ham     0.865937\n",
       "spam    0.134063\n",
       "Name: proportion, dtype: float64"
      ]
     },
     "execution_count": 4,
     "metadata": {},
     "output_type": "execute_result"
    }
   ],
   "source": [
    "data['Category'].value_counts(normalize=True)"
   ]
  },
  {
   "cell_type": "code",
   "execution_count": 5,
   "id": "58d697f4-d184-4599-8d25-df5f9c5b7288",
   "metadata": {},
   "outputs": [],
   "source": [
    "data['Category'] = data['Category'].map({'ham': 0, 'spam': 1})"
   ]
  },
  {
   "cell_type": "markdown",
   "id": "77dd4128-8c27-45ed-931d-817939c83ae3",
   "metadata": {},
   "source": [
    "<h3>Preprocessing "
   ]
  },
  {
   "cell_type": "code",
   "execution_count": 6,
   "id": "8dfa0136-7126-407d-af34-aa28e44339b9",
   "metadata": {},
   "outputs": [],
   "source": [
    "import re"
   ]
  },
  {
   "cell_type": "code",
   "execution_count": 7,
   "id": "31f04828-794d-4abb-bc6a-5d13651747fc",
   "metadata": {},
   "outputs": [
    {
     "name": "stderr",
     "output_type": "stream",
     "text": [
      "[nltk_data] Downloading package punkt to\n",
      "[nltk_data]     /Users/askarbabuu/nltk_data...\n",
      "[nltk_data]   Package punkt is already up-to-date!\n",
      "[nltk_data] Downloading package wordnet to\n",
      "[nltk_data]     /Users/askarbabuu/nltk_data...\n",
      "[nltk_data]   Package wordnet is already up-to-date!\n"
     ]
    }
   ],
   "source": [
    "import pandas as pd\n",
    "from sklearn.pipeline import Pipeline\n",
    "import nltk\n",
    "from nltk.stem import WordNetLemmatizer\n",
    "\n",
    "# Download NLTK data if you haven't already\n",
    "nltk.download('punkt')\n",
    "nltk.download('wordnet')\n",
    "\n",
    "# Sample DataFrame\n",
    "nlp_data = data.copy()\n",
    "\n",
    "# Custom transformers for lowercase, tokenization, and lemmatization\n",
    "class RegexTransformer:\n",
    "    def transform(self, X):\n",
    "        return X.apply(lambda x: re.sub(\"[^a-zA-Z]\",\" \",x))\n",
    "\n",
    "class LowercaseTransformer:\n",
    "    def transform(self, X):\n",
    "        return X.apply(lambda x: x.lower())\n",
    "\n",
    "class TokenizeTransformer:\n",
    "    def transform(self, X):\n",
    "        return X.apply(lambda x: nltk.word_tokenize(x))\n",
    "\n",
    "class LemmatizeTransformer:\n",
    "    def transform(self, X):\n",
    "        lemmatizer = WordNetLemmatizer()\n",
    "        return X.apply(lambda x: [lemmatizer.lemmatize(word, \"v\") for word in x])\n",
    "\n",
    "# Create a data preprocessing pipeline\n",
    "preprocessing_pipeline = Pipeline([\n",
    "    ('lowercase', RegexTransformer()),\n",
    "    ('lowercase', LowercaseTransformer()),\n",
    "    ('tokenize', TokenizeTransformer()),\n",
    "    ('lemmatize', LemmatizeTransformer())\n",
    "])\n",
    "\n",
    "# Apply the pipeline to the 'Message' column\n",
    "nlp_data['Message'] = preprocessing_pipeline.transform(nlp_data['Message'])\n"
   ]
  },
  {
   "cell_type": "markdown",
   "id": "56a35a5b-3995-43d1-9558-1b9dd33bf052",
   "metadata": {},
   "source": [
    "<h3>NLP"
   ]
  },
  {
   "cell_type": "code",
   "execution_count": 22,
   "id": "a23cb1cd-8a29-4d3f-8da1-33c5fd8be5ea",
   "metadata": {},
   "outputs": [],
   "source": [
    "description_list = nlp_data['Message'].apply(lambda x: \" \".join(x)).explode().tolist()"
   ]
  },
  {
   "cell_type": "code",
   "execution_count": 30,
   "id": "f1fc505a-e083-4928-a86a-f533962efd54",
   "metadata": {},
   "outputs": [
    {
     "data": {
      "text/plain": [
       "(5572, 2)"
      ]
     },
     "execution_count": 30,
     "metadata": {},
     "output_type": "execute_result"
    }
   ],
   "source": [
    "nlp_data.shape"
   ]
  },
  {
   "cell_type": "code",
   "execution_count": 36,
   "id": "b980a28b-ac9e-4856-bee5-ec07d179aa5e",
   "metadata": {},
   "outputs": [],
   "source": [
    "from sklearn.feature_extraction.text import CountVectorizer \n",
    "max_features = 3000 #We use the most common word\n",
    "count_vectorizer = CountVectorizer(max_features = max_features, stop_words = \"english\")\n",
    "sparce_matrix = count_vectorizer.fit_transform(description_list).toarray()"
   ]
  },
  {
   "cell_type": "code",
   "execution_count": 40,
   "id": "d5d61297-d603-4348-8ca7-d8d7ca9b5fa4",
   "metadata": {},
   "outputs": [
    {
     "name": "stdout",
     "output_type": "stream",
     "text": [
      "the most using 3000 words: ['aah' 'aathi' 'abi' ... 'yuo' 'yup' 'zed']\n"
     ]
    }
   ],
   "source": [
    "print(\"the most using {} words: {}\".format(max_features, count_vectorizer.get_feature_names_out()))"
   ]
  },
  {
   "cell_type": "code",
   "execution_count": 58,
   "id": "b736dbc1-2b83-4ab4-9e14-2cd1f2321ddc",
   "metadata": {},
   "outputs": [],
   "source": [
    "from sklearn.model_selection import train_test_split\n",
    "\n",
    "y = nlp_data.iloc[:,0].values\n",
    "x = sparce_matrix\n",
    "x_train, x_test, y_train, y_test = train_test_split(x,y, test_size = 0.1, random_state = 42)"
   ]
  },
  {
   "cell_type": "markdown",
   "id": "2df0168f-1e56-4ea7-a9fa-55838c5c4353",
   "metadata": {},
   "source": [
    "**Gaussian Naive Bayes**"
   ]
  },
  {
   "cell_type": "code",
   "execution_count": 62,
   "id": "1267425d-ed1d-45ff-a3fa-e2f84d3ac163",
   "metadata": {},
   "outputs": [
    {
     "name": "stdout",
     "output_type": "stream",
     "text": [
      "the accuracy of our model: 0.8637992831541219\n"
     ]
    }
   ],
   "source": [
    "from sklearn.naive_bayes import GaussianNB\n",
    "\n",
    "nb = GaussianNB()\n",
    "nb.fit(x_train, y_train)\n",
    "print(\"the accuracy of our model: {}\".format(nb.score(x_test,y_test)))"
   ]
  },
  {
   "cell_type": "markdown",
   "id": "0d5105b7-a3ac-4891-9a6f-eda9b057a45e",
   "metadata": {},
   "source": [
    "**Logistic Regression**"
   ]
  },
  {
   "cell_type": "code",
   "execution_count": 65,
   "id": "af09068d-7ae6-4d27-aa84-8568ddc45f37",
   "metadata": {},
   "outputs": [
    {
     "name": "stdout",
     "output_type": "stream",
     "text": [
      "the accuracy of our model: 0.982078853046595\n"
     ]
    }
   ],
   "source": [
    "from sklearn.linear_model import LogisticRegression\n",
    "\n",
    "lr = LogisticRegression()\n",
    "lr.fit(x_train, y_train)\n",
    "print(\"the accuracy of our model: {}\".format(lr.score(x_test,y_test)))"
   ]
  },
  {
   "cell_type": "markdown",
   "id": "3670f2b1-5e31-4c24-937c-8994c043cf60",
   "metadata": {},
   "source": [
    "**LSTM Network**"
   ]
  },
  {
   "cell_type": "code",
   "execution_count": 104,
   "id": "573f227f-dafb-467e-ad20-af134f7a34fb",
   "metadata": {},
   "outputs": [
    {
     "name": "stderr",
     "output_type": "stream",
     "text": [
      "WARNING:absl:At this time, the v2.11+ optimizer `tf.keras.optimizers.Adam` runs slowly on M1/M2 Macs, please use the legacy Keras optimizer instead, located at `tf.keras.optimizers.legacy.Adam`.\n",
      "WARNING:absl:There is a known slowdown when using v2.11+ Keras optimizers on M1/M2 Macs. Falling back to the legacy Keras optimizer, i.e., `tf.keras.optimizers.legacy.Adam`.\n"
     ]
    },
    {
     "name": "stdout",
     "output_type": "stream",
     "text": [
      "Epoch 1/3\n",
      "38/38 [==============================] - 359s 9s/step - loss: 0.4576 - accuracy: 0.8658 - val_loss: 0.3793 - val_accuracy: 0.8707\n",
      "Epoch 2/3\n",
      "38/38 [==============================] - 474s 13s/step - loss: 0.3859 - accuracy: 0.8654 - val_loss: 0.3809 - val_accuracy: 0.8707\n",
      "Epoch 3/3\n",
      "38/38 [==============================] - 350s 9s/step - loss: 0.3999 - accuracy: 0.8620 - val_loss: 0.3643 - val_accuracy: 0.8654\n"
     ]
    },
    {
     "name": "stderr",
     "output_type": "stream",
     "text": [
      "WARNING:absl:At this time, the v2.11+ optimizer `tf.keras.optimizers.Adam` runs slowly on M1/M2 Macs, please use the legacy Keras optimizer instead, located at `tf.keras.optimizers.legacy.Adam`.\n",
      "WARNING:absl:There is a known slowdown when using v2.11+ Keras optimizers on M1/M2 Macs. Falling back to the legacy Keras optimizer, i.e., `tf.keras.optimizers.legacy.Adam`.\n"
     ]
    },
    {
     "name": "stdout",
     "output_type": "stream",
     "text": [
      "Epoch 1/3\n",
      "38/38 [==============================] - 407s 10s/step - loss: 0.4882 - accuracy: 0.8468 - val_loss: 0.3896 - val_accuracy: 0.8707\n",
      "Epoch 2/3\n",
      "38/38 [==============================] - 285s 7s/step - loss: 0.3969 - accuracy: 0.8658 - val_loss: 0.3849 - val_accuracy: 0.8707\n",
      "Epoch 3/3\n",
      "38/38 [==============================] - 384s 10s/step - loss: 0.3965 - accuracy: 0.8658 - val_loss: 0.3863 - val_accuracy: 0.8707\n"
     ]
    },
    {
     "name": "stderr",
     "output_type": "stream",
     "text": [
      "WARNING:absl:At this time, the v2.11+ optimizer `tf.keras.optimizers.Adam` runs slowly on M1/M2 Macs, please use the legacy Keras optimizer instead, located at `tf.keras.optimizers.legacy.Adam`.\n",
      "WARNING:absl:There is a known slowdown when using v2.11+ Keras optimizers on M1/M2 Macs. Falling back to the legacy Keras optimizer, i.e., `tf.keras.optimizers.legacy.Adam`.\n"
     ]
    },
    {
     "name": "stdout",
     "output_type": "stream",
     "text": [
      "Epoch 1/3\n",
      "38/38 [==============================] - 270s 7s/step - loss: 2.0372 - accuracy: 0.8658 - val_loss: 1.9939 - val_accuracy: 0.8707\n",
      "Epoch 2/3\n",
      "38/38 [==============================] - 209s 5s/step - loss: 2.0696 - accuracy: 0.8658 - val_loss: 1.9939 - val_accuracy: 0.8707\n",
      "Epoch 3/3\n",
      "38/38 [==============================] - 205s 5s/step - loss: 2.0696 - accuracy: 0.8658 - val_loss: 1.9939 - val_accuracy: 0.8707\n"
     ]
    }
   ],
   "source": [
    "from sklearn.model_selection import train_test_split\n",
    "from keras.models import Sequential\n",
    "from keras.layers import Dense\n",
    "from keras.layers import LSTM\n",
    "from keras.layers import Dropout\n",
    "from keras.optimizers import Adam\n",
    "import matplotlib.pyplot as plt\n",
    "\n",
    "\n",
    "# Split the data into training, validation, and test sets\n",
    "x_train, x_temp, y_train, y_temp = train_test_split(x, y, test_size=0.2, random_state=42)\n",
    "x_val, x_test, y_val, y_test = train_test_split(x_temp, y_temp, test_size=0.5, random_state=42)\n",
    "\n",
    "# Initialize the RNN model\n",
    "regressor = Sequential()\n",
    "\n",
    "# Add LSTM layers with dropout\n",
    "regressor.add(LSTM(units=50, return_sequences=True, input_shape=(x_train.shape[1], 1)))\n",
    "regressor.add(Dropout(0.2))\n",
    "\n",
    "regressor.add(LSTM(units=50, return_sequences=True))\n",
    "regressor.add(Dropout(0.2))\n",
    "\n",
    "regressor.add(LSTM(units=50, return_sequences=True))\n",
    "regressor.add(Dropout(0.2))\n",
    "\n",
    "regressor.add(LSTM(units=50))\n",
    "regressor.add(Dropout(0.2))\n",
    "\n",
    "# Add the output layer\n",
    "regressor.add(Dense(units=1))\n",
    "\n",
    "# Define a range of learning rates to experiment with\n",
    "learning_rates = [0.001, 0.01, 0.1]\n",
    "\n",
    "# Initialize lists to store training histories for different learning rates\n",
    "histories = []\n",
    "\n",
    "for lr in learning_rates:\n",
    "    # Compile the model with the current learning rate\n",
    "    optimizer = Adam(learning_rate=lr)\n",
    "    regressor.compile(optimizer=optimizer, loss='binary_crossentropy', metrics=['accuracy'])\n",
    "\n",
    "    # Train the model with validation data\n",
    "    history = regressor.fit(x_train, y_train, epochs=3, batch_size=120, validation_data=(x_val, y_val))\n",
    "    \n",
    "    # Store the training history for this learning rate\n",
    "    histories.append(history)"
   ]
  },
  {
   "cell_type": "code",
   "execution_count": 107,
   "id": "df56f075-8752-4c3d-bd95-f02a7edf80b9",
   "metadata": {},
   "outputs": [
    {
     "data": {
      "text/plain": [
       "{'loss': [0.4575915038585663, 0.38594749569892883, 0.39991509914398193],\n",
       " 'accuracy': [0.8658290505409241, 0.8653802871704102, 0.8620148301124573],\n",
       " 'val_loss': [0.379335880279541, 0.38091108202934265, 0.36431366205215454],\n",
       " 'val_accuracy': [0.8707360625267029, 0.8707360625267029, 0.865350067615509]}"
      ]
     },
     "execution_count": 107,
     "metadata": {},
     "output_type": "execute_result"
    }
   ],
   "source": [
    "histories[0].history"
   ]
  },
  {
   "cell_type": "code",
   "execution_count": 111,
   "id": "f87394df-6e80-4fde-ad1d-7ec362afdf74",
   "metadata": {},
   "outputs": [],
   "source": [
    "# Evaluate and compare models with different learning rates on the validation set\n",
    "train_losses = []\n",
    "validation_losses = []\n",
    "\n",
    "for history in histories:\n",
    "    tarin_loss, val_loss = history.history['loss'][2], history.history['val_loss'][2]\n",
    "    validation_losses.append(val_loss)\n",
    "    train_losses.append(tarin_loss)"
   ]
  },
  {
   "cell_type": "code",
   "execution_count": 118,
   "id": "cf700866-962e-4ed1-bc8b-0e5d167e15a2",
   "metadata": {},
   "outputs": [
    {
     "data": {
      "image/png": "[encoded data removed]",
      "text/plain": [
       "<Figure size 800x600 with 1 Axes>"
      ]
     },
     "metadata": {},
     "output_type": "display_data"
    }
   ],
   "source": [
    "# Visualize the performance for different learning rates on the validation set\n",
    "plt.figure(figsize=(8, 6))\n",
    "plt.plot(learning_rates, validation_losses, marker='o', label='Validation Loss')\n",
    "plt.plot(learning_rates, train_losses, marker='o', label='Training Loss')\n",
    "plt.title('Loss vs. Learning Rate')\n",
    "plt.xlabel('Learning Rate')\n",
    "plt.ylabel('Validation Loss')\n",
    "plt.grid(True)\n",
    "plt.tight_layout()\n",
    "plt.legend()\n",
    "plt.show()\n",
    "\n"
   ]
  },
  {
   "cell_type": "code",
   "execution_count": 119,
   "id": "83c6d921-3212-44b4-ab1f-a6ef12c878fc",
   "metadata": {},
   "outputs": [
    {
     "name": "stdout",
     "output_type": "stream",
     "text": [
      "Best Learning Rate: 0.001\n"
     ]
    }
   ],
   "source": [
    "# You can choose the learning rate that results in the best validation performance\n",
    "best_lr = learning_rates[validation_losses.index(min(validation_losses))]\n",
    "print(\"Best Learning Rate:\", best_lr)"
   ]
  },
  {
   "cell_type": "code",
   "execution_count": 123,
   "id": "efcb5a06-1ba9-4df5-9aa0-ef4b2058433c",
   "metadata": {},
   "outputs": [
    {
     "name": "stderr",
     "output_type": "stream",
     "text": [
      "WARNING:absl:At this time, the v2.11+ optimizer `tf.keras.optimizers.Adam` runs slowly on M1/M2 Macs, please use the legacy Keras optimizer instead, located at `tf.keras.optimizers.legacy.Adam`.\n",
      "WARNING:absl:There is a known slowdown when using v2.11+ Keras optimizers on M1/M2 Macs. Falling back to the legacy Keras optimizer, i.e., `tf.keras.optimizers.legacy.Adam`.\n"
     ]
    },
    {
     "name": "stdout",
     "output_type": "stream",
     "text": [
      "Epoch 1/3\n",
      "140/140 [==============================] - 326s 2s/step - loss: 2.0696 - accuracy: 0.8658\n",
      "Epoch 2/3\n",
      "140/140 [==============================] - 320s 2s/step - loss: 2.0696 - accuracy: 0.8658\n",
      "Epoch 3/3\n",
      "140/140 [==============================] - 318s 2s/step - loss: 2.0696 - accuracy: 0.8658\n",
      "18/18 [==============================] - 8s 404ms/step - loss: 2.1285 - accuracy: 0.8620\n",
      "Test Loss: 2.1285321712493896\n",
      "Test Accuracy: 0.8620071411132812\n"
     ]
    }
   ],
   "source": [
    "# Retrain the model with the best learning rate on the entire training dataset\n",
    "best_optimizer = Adam(learning_rate=best_lr)\n",
    "regressor.compile(optimizer=best_optimizer, loss='binary_crossentropy', metrics=['accuracy'])\n",
    "regressor.fit(x_train, y_train, epochs=3, batch_size=32)\n",
    "\n",
    "# Evaluate the final model on the test data\n",
    "test_loss, test_accuracy = regressor.evaluate(x_test, y_test)\n",
    "print(\"Test Loss:\", test_loss)\n",
    "print(\"Test Accuracy:\", test_accuracy)"
   ]
  }
 ],
 "metadata": {
  "kernelspec": {
   "display_name": "Python 3 (ipykernel)",
   "language": "python",
   "name": "python3"
  },
  "language_info": {
   "codemirror_mode": {
    "name": "ipython",
    "version": 3
   },
   "file_extension": ".py",
   "mimetype": "text/x-python",
   "name": "python",
   "nbconvert_exporter": "python",
   "pygments_lexer": "ipython3",
   "version": "3.9.6"
  }
 },
 "nbformat": 4,
 "nbformat_minor": 5
}
